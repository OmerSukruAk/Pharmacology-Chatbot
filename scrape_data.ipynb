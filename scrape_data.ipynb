{
 "cells": [
  {
   "cell_type": "code",
   "execution_count": 75,
   "metadata": {},
   "outputs": [],
   "source": [
    "import requests\n",
    "import pandas as pd\n",
    "from bs4 import BeautifulSoup\n",
    "\n",
    "def send_request(url:str) -> str:\n",
    "    response = requests.get(url)\n",
    "    return response.text\n",
    "\n",
    "def parse_drug_page(page_index:str) -> pd.DataFrame:\n",
    "    \n",
    "    soup = BeautifulSoup(page_index, 'html.parser')\n",
    "    table_list = soup.find_all('ul', {'class': 'ddc-list-column-2'})\n",
    "\n",
    "    data = []\n",
    "    base_url = \"https://www.drugs.com\"\n",
    "    for ul in table_list:\n",
    "        for li in ul.find_all('li'):\n",
    "            a_tag = li.find('a')\n",
    "            medicine_name = a_tag.text\n",
    "            medicine_link = a_tag['href']\n",
    "            data.append([medicine_name, base_url + medicine_link])\n",
    "\n",
    "    df = pd.DataFrame(data, columns=['Medicine name', 'Medicine Link'])\n",
    "\n",
    "    return df\n",
    "\n",
    "def get_drug_from_letter(url:str,letter:str) -> pd.DataFrame:\n",
    "    url = url + letter + \".html\"\n",
    "\n",
    "    page_index = send_request(url)\n",
    "    df = parse_drug_page(page_index)\n",
    "    \n",
    "    return df"
   ]
  },
  {
   "cell_type": "code",
   "execution_count": 76,
   "metadata": {},
   "outputs": [],
   "source": [
    "def get_all_drugs(url:str) -> pd.DataFrame:\n",
    "    all_drugs = pd.DataFrame()\n",
    "    for i in range(97, 123):\n",
    "        letter = chr(i)\n",
    "        all_drugs = pd.concat([all_drugs, get_drug_from_letter(url, letter)])\n",
    "    \n",
    "    return all_drugs"
   ]
  },
  {
   "cell_type": "code",
   "execution_count": null,
   "metadata": {},
   "outputs": [],
   "source": [
    "get_drug_from_letter(url = \"https://www.drugs.com/alpha/\",letter = 'b')"
   ]
  },
  {
   "cell_type": "code",
   "execution_count": 78,
   "metadata": {},
   "outputs": [
    {
     "data": {
      "text/html": [
       "<div>\n",
       "<style scoped>\n",
       "    .dataframe tbody tr th:only-of-type {\n",
       "        vertical-align: middle;\n",
       "    }\n",
       "\n",
       "    .dataframe tbody tr th {\n",
       "        vertical-align: top;\n",
       "    }\n",
       "\n",
       "    .dataframe thead th {\n",
       "        text-align: right;\n",
       "    }\n",
       "</style>\n",
       "<table border=\"1\" class=\"dataframe\">\n",
       "  <thead>\n",
       "    <tr style=\"text-align: right;\">\n",
       "      <th></th>\n",
       "      <th>Medicine name</th>\n",
       "      <th>Medicine Link</th>\n",
       "    </tr>\n",
       "  </thead>\n",
       "  <tbody>\n",
       "    <tr>\n",
       "      <th>0</th>\n",
       "      <td>Abilify</td>\n",
       "      <td>https://www.drugs.com/abilify.html</td>\n",
       "    </tr>\n",
       "    <tr>\n",
       "      <th>1</th>\n",
       "      <td>Abilify Asimtufii</td>\n",
       "      <td>https://www.drugs.com/abilify-asimtufii.html</td>\n",
       "    </tr>\n",
       "    <tr>\n",
       "      <th>2</th>\n",
       "      <td>Abilify Maintena</td>\n",
       "      <td>https://www.drugs.com/abilify-maintena.html</td>\n",
       "    </tr>\n",
       "    <tr>\n",
       "      <th>3</th>\n",
       "      <td>Abiraterone</td>\n",
       "      <td>https://www.drugs.com/abiraterone.html</td>\n",
       "    </tr>\n",
       "    <tr>\n",
       "      <th>4</th>\n",
       "      <td>Acetaminophen</td>\n",
       "      <td>https://www.drugs.com/acetaminophen.html</td>\n",
       "    </tr>\n",
       "    <tr>\n",
       "      <th>...</th>\n",
       "      <td>...</td>\n",
       "      <td>...</td>\n",
       "    </tr>\n",
       "    <tr>\n",
       "      <th>40</th>\n",
       "      <td>Zyloprim</td>\n",
       "      <td>https://www.drugs.com/cons/zyloprim.html</td>\n",
       "    </tr>\n",
       "    <tr>\n",
       "      <th>41</th>\n",
       "      <td>Zyprexa</td>\n",
       "      <td>https://www.drugs.com/zyprexa.html</td>\n",
       "    </tr>\n",
       "    <tr>\n",
       "      <th>42</th>\n",
       "      <td>Zyrtec</td>\n",
       "      <td>https://www.drugs.com/zyrtec.html</td>\n",
       "    </tr>\n",
       "    <tr>\n",
       "      <th>43</th>\n",
       "      <td>Zytiga</td>\n",
       "      <td>https://www.drugs.com/zytiga.html</td>\n",
       "    </tr>\n",
       "    <tr>\n",
       "      <th>44</th>\n",
       "      <td>Zyvox</td>\n",
       "      <td>https://www.drugs.com/zyvox.html</td>\n",
       "    </tr>\n",
       "  </tbody>\n",
       "</table>\n",
       "<p>1228 rows × 2 columns</p>\n",
       "</div>"
      ],
      "text/plain": [
       "        Medicine name                                 Medicine Link\n",
       "0             Abilify            https://www.drugs.com/abilify.html\n",
       "1   Abilify Asimtufii  https://www.drugs.com/abilify-asimtufii.html\n",
       "2    Abilify Maintena   https://www.drugs.com/abilify-maintena.html\n",
       "3         Abiraterone        https://www.drugs.com/abiraterone.html\n",
       "4       Acetaminophen      https://www.drugs.com/acetaminophen.html\n",
       "..                ...                                           ...\n",
       "40           Zyloprim      https://www.drugs.com/cons/zyloprim.html\n",
       "41            Zyprexa            https://www.drugs.com/zyprexa.html\n",
       "42             Zyrtec             https://www.drugs.com/zyrtec.html\n",
       "43             Zytiga             https://www.drugs.com/zytiga.html\n",
       "44              Zyvox              https://www.drugs.com/zyvox.html\n",
       "\n",
       "[1228 rows x 2 columns]"
      ]
     },
     "execution_count": 78,
     "metadata": {},
     "output_type": "execute_result"
    }
   ],
   "source": [
    "get_all_drugs(url = \"https://www.drugs.com/alpha/\")"
   ]
  },
  {
   "cell_type": "code",
   "execution_count": 84,
   "metadata": {},
   "outputs": [
    {
     "name": "stdout",
     "output_type": "stream",
     "text": [
      "{'drugGroup': {'name': None, 'conceptGroup': [{'tty': 'BPCK'}, {'tty': 'SBD', 'conceptProperties': [{'rxcui': '596928', 'name': 'duloxetine 20 MG Delayed Release Oral Capsule [Cymbalta]', 'synonym': 'Cymbalta 20 MG Delayed Release Oral Capsule', 'tty': 'SBD', 'language': 'ENG', 'suppress': 'N', 'umlscui': ''}, {'rxcui': '596932', 'name': 'duloxetine 30 MG Delayed Release Oral Capsule [Cymbalta]', 'synonym': 'Cymbalta 30 MG Delayed Release Oral Capsule', 'tty': 'SBD', 'language': 'ENG', 'suppress': 'N', 'umlscui': ''}, {'rxcui': '615186', 'name': 'duloxetine 60 MG Delayed Release Oral Capsule [Cymbalta]', 'synonym': 'Cymbalta 60 MG (as duloxetine HCl 67.3 MG) Delayed Release Oral Capsule', 'tty': 'SBD', 'language': 'ENG', 'suppress': 'N', 'umlscui': ''}]}]}}\n"
     ]
    }
   ],
   "source": [
    "import requests\n",
    "\n",
    "# Define the base URL for the RxNorm API\n",
    "base_url = \"https://rxnav.nlm.nih.gov/REST/drugs.json\"\n",
    "\n",
    "# Define the parameters (searching for \"cymbalta\")\n",
    "params = {\n",
    "    \"name\": \"cymbalta\"\n",
    "}\n",
    "\n",
    "# Send the GET request\n",
    "response = requests.get(base_url, params=params)\n",
    "\n",
    "# Check if the request was successful\n",
    "if response.status_code == 200:\n",
    "    data = response.json()\n",
    "    print(data)  # Print the response in JSON format\n",
    "else:\n",
    "    print(f\"Request failed with status code {response.status_code}\")\n"
   ]
  },
  {
   "cell_type": "markdown",
   "metadata": {},
   "source": [
    "Sending Request to OpenFDA API Endpoint"
   ]
  },
  {
   "cell_type": "code",
   "execution_count": 87,
   "metadata": {},
   "outputs": [
    {
     "name": "stdout",
     "output_type": "stream",
     "text": [
      "Drug Name: ABILIFY\n",
      "Indications and Usage: [\"1 INDICATIONS AND USAGE ABILIFY (aripiprazole) Tablets are indicated for the treatment of: Schizophrenia Acute Treatment of Manic and Mixed Episodes associated with Bipolar I Disorder Adjunctive Treatment of Major Depressive Disorder Irritability Associated with Autistic Disorder Treatment of Tourette's Disorder ABILIFY is an atypical antipsychotic. ABILIFY is indicated for: Schizophrenia ( 14.1 ) Acute Treatment of Manic and Mixed Episodes associated with Bipolar I Disorder ( 14.2 ) Adjunctive Treatment of Major Depressive Disorder ( 14.3 ) Irritability Associated with Autistic Disorder ( 14.4 ) Treatment of Tourette's Disorder ( 14.5 )\"]\n",
      "Side Effects: [\"6 ADVERSE REACTIONS The following adverse reactions are discussed in more detail in other sections of the labeling: Increased Mortality in Elderly Patients with Dementia-Related Psychosis [see Boxed Warning and Warnings and Precautions (5.1) ] Cerebrovascular Adverse Events, Including Stroke [see Warnings and Precautions (5.2) ] Suicidal Thoughts and Behaviors in Children, Adolescents, and Young Adults [see Boxed Warning and Warnings and Precautions (5.3) ] Neuroleptic Malignant Syndrome (NMS) [see Warnings and Precautions (5.4) ] Tardive Dyskinesia [see Warnings and Precautions (5.5) ] Metabolic Changes [see Warnings and Precautions (5.6) ] Pathological Gambling and Other Compulsive Behaviors [see Warnings and Precautions (5.7) ] Orthostatic Hypotension [see Warnings and Precautions (5.8) ] Falls [see Warnings and Precautions (5.9) ] Leukopenia, Neutropenia, and Agranulocytosis [see Warnings and Precautions (5.10) ] Seizures/Convulsions [see Warnings and Precautions (5.11) ] Potential for Cognitive and Motor Impairment [see Warnings and Precautions (5.12) ] Body Temperature Regulation [see Warnings and Precautions (5.13) ] Suicide [see Warnings and Precautions (5.14) ] Dysphagia [see Warnings and Precautions (5.15) ] Commonly observed adverse reactions (incidence ≥5% and at least twice that for placebo) were ( 6.1 ): Adult patients with schizophrenia: akathisia Pediatric patients (13 to 17 years) with schizophrenia: extrapyramidal disorder, somnolence, and tremor Adult patients (monotherapy) with bipolar mania: akathisia, sedation, restlessness, tremor, and extrapyramidal disorder Adult patients (adjunctive therapy with lithium or valproate) with bipolar mania: akathisia, insomnia, and extrapyramidal disorder Pediatric patients (10 to 17 years) with bipolar mania: somnolence, extrapyramidal disorder, fatigue, nausea, akathisia, blurred vision, salivary hypersecretion, and dizziness Adult patients with major depressive disorder (adjunctive treatment to antidepressant therapy): akathisia, restlessness, insomnia, constipation, fatigue, and blurred vision Pediatric patients (6 to 17 years) with autistic disorder: sedation, fatigue, vomiting, somnolence, tremor, pyrexia, drooling, decreased appetite, salivary hypersecretion, extrapyramidal disorder, and lethargy Pediatric patients (6 to 18 years) with Tourette's Disorder: sedation, somnolence, nausea, headache, nasopharyngitis, fatigue, increased appetite To report SUSPECTED ADVERSE REACTIONS, contact Otsuka America Pharmaceutical, Inc. at 1-800-438-9927 or FDA at 1-800-FDA-1088 or www.fda.gov/medwatch. 6.1 Clinical Trials Experience Because clinical trials are conducted under widely varying conditions, adverse reaction rates observed in the clinical trials of a drug cannot be directly compared to rates in the clinical trials of another drug and may not reflect the rates observed in practice. The most common adverse reactions in adult patients in clinical trials (≥10%) were nausea, vomiting, constipation, headache, dizziness, akathisia, anxiety, insomnia, and restlessness. The most common adverse reactions in the pediatric clinical trials (≥10%) were somnolence, headache, vomiting, extrapyramidal disorder, fatigue, increased appetite, insomnia, nausea, nasopharyngitis, and weight increased. ABILIFY has been evaluated for safety in 13,543 adult patients who participated in multiple-dose, clinical trials in schizophrenia, bipolar disorder, major depressive disorder, dementia of the Alzheimer's type, Parkinson's disease, and alcoholism, and who had approximately 7,619 patient-years of exposure to oral ABILIFY and 749 patients with exposure to aripiprazole injection. A total of 3,390 patients were treated with oral ABILIFY for at least 180 days and 1,933 patients treated with oral ABILIFY had at least one year of exposure. ABILIFY has been evaluated for safety in 1,686 pediatric patients (6 to 18 years) who participated in multiple-dose, clinical trials in schizophrenia, bipolar mania, autistic disorder, or Tourette's Disorder and who had approximately 1,342 patient-years of exposure to oral ABILIFY. A total of 959 pediatric patients were treated with oral ABILIFY for at least 180 days and 556 pediatric patients treated with oral ABILIFY had at least one year of exposure. The conditions and duration of treatment with ABILIFY (monotherapy and adjunctive therapy with antidepressants or mood stabilizers) included (in overlapping categories) double-blind, comparative and noncomparative open-label studies, inpatient and outpatient studies, fixed- and flexible-dose studies, and short- and longer-term exposure. Adult Patients with Schizophrenia The following findings are based on a pool of five placebo-controlled trials (four 4-week and one 6-week) in which oral ABILIFY was administered in doses ranging from 2 to 30 mg/day. Commonly Observed Adverse Reactions The only commonly observed adverse reaction associated with the use of ABILIFY in patients with schizophrenia (incidence of 5% or greater and ABILIFY incidence at least twice that for placebo) was akathisia (ABILIFY 8%; placebo 4%). Adult Patients with Bipolar Mania Monotherapy The following findings are based on a pool of 3-week, placebo-controlled, bipolar mania trials in which oral ABILIFY was administered at doses of 15 or 30 mg/day. Commonly Observed Adverse Reactions Commonly observed adverse reactions associated with the use of ABILIFY in patients with bipolar mania (incidence of 5% or greater and ABILIFY incidence at least twice that for placebo) are shown in Table 14. Table 14: Commonly Observed Adverse Reactions in Short-Term, Placebo-Controlled Trials of Adult Patients with Bipolar Mania Treated with ABILIFY Monotherapy Preferred Term Percentage of Patients Reporting Reaction ABILIFY (n=917) Placebo (n=753) Akathisia 13 4 Sedation 8 3 Restlessness 6 3 Tremor 6 3 Extrapyramidal Disorder 5 2 Less Common Adverse Reactions in Adults Table 15 enumerates the pooled incidence, rounded to the nearest percent, of adverse reactions that occurred during acute therapy (up to 6 weeks in schizophrenia and up to 3 weeks in bipolar mania), including only those reactions that occurred in 2% or more of patients treated with ABILIFY (doses ≥2 mg/day) and for which the incidence in patients treated with ABILIFY was greater than the incidence in patients treated with placebo in the combined dataset. Table 15: Adverse Reactions in Short-Term, Placebo-Controlled Trials in Adult Patients Treated with ABILIFY Preferred Term Percentage of Patients Reporting Reaction Adverse reactions reported by at least 2% of patients treated with ABILIFY, except adverse reactions which had an incidence equal to or less than placebo. ABILIFY (n=1,843) Placebo (n=1,166) Eye Disorders Blurred Vision 3 1 Gastrointestinal Disorders Nausea 15 11 Constipation 11 7 Vomiting 11 6 Dyspepsia 9 7 Dry Mouth 5 4 Toothache 4 3 Abdominal Discomfort 3 2 Stomach Discomfort 3 2 General Disorders and Administration Site Conditions Fatigue 6 4 Pain 3 2 Musculoskeletal and Connective Tissue Disorders Musculoskeletal Stiffness 4 3 Pain in Extremity 4 2 Myalgia 2 1 Muscle Spasms 2 1 Nervous System Disorders Headache 27 23 Dizziness 10 7 Akathisia 10 4 Sedation 7 4 Extrapyramidal Disorder 5 3 Tremor 5 3 Somnolence 5 3 Psychiatric Disorders Agitation 19 17 Insomnia 18 13 Anxiety 17 13 Restlessness 5 3 Respiratory, Thoracic, and Mediastinal Disorders Pharyngolaryngeal Pain 3 2 Cough 3 2 An examination of population subgroups did not reveal any clear evidence of differential adverse reaction incidence on the basis of age, gender, or race. Adult Patients with Adjunctive Therapy with Bipolar Mania The following findings are based on a placebo-controlled trial of adult patients with bipolar disorder in which ABILIFY was administered at doses of 15 or 30 mg/day as adjunctive therapy with lithium or valproate. Adverse Reactions Associated with Discontinuation of Treatment In a study of patients who were already tolerating either lithium or valproate as monotherapy, discontinuation rates due to adverse reactions were 12% for patients treated with adjunctive ABILIFY compared to 6% for patients treated with adjunctive placebo. The most common adverse drug reactions associated with discontinuation in the adjunctive ABILIFY-treated compared to placebo-treated patients were akathisia (5% and 1%, respectively) and tremor (2% and 1%, respectively). Commonly Observed Adverse Reactions The commonly observed adverse reactions associated with adjunctive ABILIFY and lithium or valproate in patients with bipolar mania (incidence of 5% or greater and incidence at least twice that for adjunctive placebo) were: akathisia, insomnia, and extrapyramidal disorder. Less Common Adverse Reactions in Adult Patients with Adjunctive Therapy in Bipolar Mania Table 16 enumerates the incidence, rounded to the nearest percent, of adverse reactions that occurred during acute treatment (up to 6 weeks), including only those reactions that occurred in 2% or more of patients treated with adjunctive ABILIFY (doses of 15 or 30 mg/day) and lithium or valproate and for which the incidence in patients treated with this combination was greater than the incidence in patients treated with placebo plus lithium or valproate. Table 16: Adverse Reactions in a Short-Term, Placebo-Controlled Trial of Adjunctive Therapy in Patients with Bipolar Disorder Preferred Term Percentage of Patients Reporting Reaction Adverse reactions reported by at least 2% of patients treated with ABILIFY, except adverse reactions which had an incidence equal to or less than placebo. ABILIFY + Li or Val Lithium or Valproate (n=253) Placebo + Li or Val (n=130) Gastrointestinal Disorders Nausea 8 5 Vomiting 4 0 Salivary Hypersecretion 4 2 Dry Mouth 2 1 Infections and Infestations Nasopharyngitis 3 2 Investigations Weight Increased 2 1 Nervous System Disorders Akathisia 19 5 Tremor 9 6 Extrapyramidal Disorder 5 1 Dizziness 4 1 Sedation 4 2 Psychiatric Disorders Insomnia 8 4 Anxiety 4 1 Restlessness 2 1 Pediatric Patients (13 to 17 years) with Schizophrenia The following findings are based on one 6-week, placebo-controlled trial in which oral ABILIFY was administered in doses ranging from 2 to 30 mg/day. Adverse Reactions Associated with Discontinuation of Treatment The incidence of discontinuation due to adverse reactions between pediatric patients (13 to 17 years) treated with ABILIFY and treated with placebo was 5% and 2%, respectively. Commonly Observed Adverse Reactions Commonly observed adverse reactions associated with the use of ABILIFY in adolescent patients with schizophrenia (incidence of 5% or greater and ABILIFY incidence at least twice that for placebo) were extrapyramidal disorder, somnolence, and tremor. Pediatric Patients (10 to 17 years) with Bipolar Mania The following findings are based on one 4-week, placebo-controlled trial in which oral ABILIFY was administered in doses of 10 or 30 mg/day. Adverse Reactions Associated with Discontinuation of Treatment The incidence of discontinuation due to adverse reactions between pediatric patients (10 to 17 years) treated with ABILIFY and treated with placebo was 7% and 2%, respectively. Commonly Observed Adverse Reactions Commonly observed adverse reactions associated with the use of ABILIFY in pediatric patients with bipolar mania (incidence of 5% or greater and ABILIFY incidence at least twice that for placebo) are shown in Table 17. Table 17: Commonly Observed Adverse Reactions in Short-Term, Placebo-Controlled Trials of Pediatric Patients (10 to 17 years) with Bipolar Mania Treated with ABILIFY Preferred Term Percentage of Patients Reporting Reaction ABILIFY (n=197) Placebo (n=97) Somnolence 23 3 Extrapyramidal Disorder 20 3 Fatigue 11 4 Nausea 11 4 Akathisia 10 2 Blurred Vision 8 0 Salivary Hypersecretion 6 0 Dizziness 5 1 Pediatric Patients (6 to 17 years) with Autistic Disorder The following findings are based on two 8-week, placebo-controlled trials in which oral ABILIFY was administered in doses of 2 to 15 mg/day. Adverse Reactions Associated with Discontinuation of Treatment The incidence of discontinuation due to adverse reactions between pediatric patients (6 to 17 years) treated with ABILIFY and treated with placebo was 10% and 8%, respectively. Commonly Observed Adverse Reactions Commonly observed adverse reactions associated with the use of ABILIFY in pediatric patients with autistic disorder (incidence of 5% or greater and ABILIFY incidence at least twice that for placebo) are shown in Table 18. Table 18: Commonly Observed Adverse Reactions in Short-Term, Placebo-Controlled Trials of Pediatric Patients (6 to 17 years) with Autistic Disorder Treated with ABILIFY Preferred Term Percentage of Patients Reporting Reaction ABILIFY (n=212) Placebo (n=101) Sedation 21 4 Fatigue 17 2 Vomiting 14 7 Somnolence 10 4 Tremor 10 0 Pyrexia 9 1 Drooling 9 0 Decreased Appetite 7 2 Salivary Hypersecretion 6 1 Extrapyramidal Disorder 6 0 Lethargy 5 0 Pediatric Patients (6 to 18 years) with Tourette's Disorder The following findings are based on one 8-week and one 10-week, placebo-controlled trials in which oral ABILIFY was administered in doses of 2 to 20 mg/day. Adverse Reactions Associated with Discontinuation of Treatment The incidence of discontinuation due to adverse reactions between pediatric patients (6 to 18 years) treated with ABILIFY and treated with placebo was 7% and 1%, respectively. Commonly Observed Adverse Reactions Commonly observed adverse reactions associated with the use of ABILIFY in pediatric patients with Tourette's Disorder (incidence of 5% or greater and ABILIFY incidence at least twice that for placebo) are shown in Table 19. Table 19: Commonly Observed Adverse Reactions in Short-Term, Placebo-Controlled Trials of Pediatric Patients (6 to 18 years) with Tourette's Disorder Treated with ABILIFY Preferred Term Percentage of Patients Reporting Reaction ABILIFY (n=121) Placebo (n=72) Sedation 13 6 Somnolence 13 1 Nausea 11 4 Headache 10 3 Nasopharyngitis 9 0 Fatigue 8 0 Increased Appetite 7 1 Less Common Adverse Reactions in Pediatric Patients (6 to 18 years) with Schizophrenia, Bipolar Mania, Autistic Disorder, or Tourette's Disorder Table 20 enumerates the pooled incidence, rounded to the nearest percent, of adverse reactions that occurred during acute therapy (up to 6 weeks in schizophrenia, up to 4 weeks in bipolar mania, up to 8 weeks in autistic disorder, and up to 10 weeks in Tourette's Disorder), including only those reactions that occurred in 2% or more of pediatric patients treated with ABILIFY (doses ≥2 mg/day) and for which the incidence in patients treated with ABILIFY was greater than the incidence in patients treated with placebo. Table 20: Adverse Reactions in Short-Term, Placebo-Controlled Trials of Pediatric Patients (6 to 18 years) Treated with ABILIFY Preferred Term Percentage of Patients Reporting Reaction Adverse reactions reported by at least 2% of pediatric patients treated with ABILIFY, except adverse reactions which had an incidence equal to or less than placebo. ABILIFY (n=732) Placebo (n=370) Eye Disorders Blurred Vision 3 0 Gastrointestinal Disorders Abdominal Discomfort 2 1 Vomiting 8 7 Nausea 8 4 Diarrhea 4 3 Salivary Hypersecretion 4 1 Abdominal Pain Upper 3 2 Constipation 2 2 General Disorders and Administration Site Conditions Fatigue 10 2 Pyrexia 4 1 Irritability 2 1 Asthenia 2 1 Infections and Infestations Nasopharyngitis 6 3 Investigations Weight Increased 3 1 Metabolism and Nutrition Disorders Increased Appetite 7 3 Decreased Appetite 5 4 Musculoskeletal and Connective Tissue Disorders Musculoskeletal Stiffness 2 1 Muscle Rigidity 2 1 Nervous System Disorders Somnolence 16 4 Headache 12 10 Sedation 9 2 Tremor 9 1 Extrapyramidal Disorder 6 1 Akathisia 6 4 Drooling 3 0 Lethargy 3 0 Dizziness 3 2 Dystonia 2 1 Respiratory, Thoracic, and Mediastinal Disorders Epistaxis 2 1 Skin and Subcutaneous Tissue Disorders Rash 2 1 Adult Patients Receiving ABILIFY as Adjunctive Treatment of Major Depressive Disorder The following findings are based on a pool of two placebo-controlled trials of patients with major depressive disorder in which ABILIFY was administered at doses of 2 to 20 mg as adjunctive treatment to continued antidepressant therapy. Adverse Reactions Associated with Discontinuation of Treatment The incidence of discontinuation due to adverse reactions was 6% for patients treated with adjunctive ABILIFY and 2% for patients treated with adjunctive placebo. Commonly Observed Adverse Reactions The commonly observed adverse reactions associated with the use of adjunctive ABILIFY in patients with major depressive disorder (incidence of 5% or greater and ABILIFY incidence at least twice that for placebo) were: akathisia, restlessness, insomnia, constipation, fatigue, and blurred vision. Less Common Adverse Reactions in Adult Patients with Major Depressive Disorder Table 21 enumerates the pooled incidence, rounded to the nearest percent, of adverse reactions that occurred during acute therapy (up to 6 weeks), including only those adverse reactions that occurred in 2% or more of patients treated with adjunctive ABILIFY (doses ≥2 mg/day) and for which the incidence in patients treated with adjunctive ABILIFY was greater than the incidence in patients treated with adjunctive placebo in the combined dataset. Table 21: Adverse Reactions in Short-Term, Placebo-Controlled Adjunctive Trials in Patients with Major Depressive Disorder Preferred Term Percentage of Patients Reporting Reaction Adverse reactions reported by at least 2% of patients treated with adjunctive ABILIFY, except adverse reactions which had an incidence equal to or less than placebo. ABILIFY + ADT Antidepressant Therapy (n=371) Placebo + ADT (n=366) Eye Disorders Blurred Vision 6 1 Gastrointestinal Disorders Constipation 5 2 General Disorders and Administration Site Conditions Fatigue 8 4 Feeling Jittery 3 1 Infections and Infestations Upper Respiratory Tract Infection 6 4 Investigations Weight Increased 3 2 Metabolism and Nutrition Disorders Increased Appetite 3 2 Musculoskeletal and Connective Tissue Disorders Arthralgia 4 3 Myalgia 3 1 Nervous System Disorders Akathisia 25 4 Somnolence 6 4 Tremor 5 4 Sedation 4 2 Dizziness 4 2 Disturbance in Attention 3 1 Extrapyramidal Disorder 2 0 Psychiatric Disorders Restlessness 12 2 Insomnia 8 2 Dose-Related Adverse Reactions Schizophrenia Dose response relationships for the incidence of treatment-emergent adverse events were evaluated from four trials in adult patients with schizophrenia comparing various fixed doses (2, 5, 10, 15, 20, and 30 mg/day) of oral ABILIFY to placebo. This analysis, stratified by study, indicated that the only adverse reaction to have a possible dose response relationship, and then most prominent only with 30 mg, was somnolence [including sedation]; (incidences were placebo, 7.1%; 10 mg, 8.5%; 15 mg, 8.7%; 20 mg, 7.5%; 30 mg, 12.6%). In the study of pediatric patients (13 to 17 years of age) with schizophrenia, three common adverse reactions appeared to have a possible dose response relationship: extrapyramidal disorder (incidences were placebo, 5.0%; 10 mg, 13.0%; 30 mg, 21.6%); somnolence (incidences were placebo, 6.0%; 10 mg, 11.0%; 30 mg, 21.6%); and tremor (incidences were placebo, 2.0%; 10 mg, 2.0%; 30 mg, 11.8%). Bipolar Mania In the study of pediatric patients (10 to 17 years of age) with bipolar mania, four common adverse reactions had a possible dose response relationship at 4 weeks; extrapyramidal disorder (incidences were placebo, 3.1%; 10 mg, 12.2%; 30 mg, 27.3%); somnolence (incidences were placebo, 3.1%; 10 mg, 19.4%; 30 mg, 26.3%); akathisia (incidences were placebo, 2.1%; 10 mg, 8.2%; 30 mg, 11.1%); and salivary hypersecretion (incidences were placebo, 0%; 10 mg, 3.1%; 30 mg, 8.1%). Autistic Disorder In a study of pediatric patients (6 to 17 years of age) with autistic disorder, one common adverse reaction had a possible dose response relationship: fatigue (incidences were placebo, 0%; 5 mg, 3.8%; 10 mg, 22.0%; 15 mg, 18.5%). Tourette's Disorder In a study of pediatric patients (7 to 17 years of age) with Tourette's Disorder, no common adverse reaction(s) had a dose response relationship. Extrapyramidal Symptoms Schizophrenia In short-term, placebo-controlled trials in schizophrenia in adults, the incidence of reported EPS-related events, excluding events related to akathisia, for ABILIFY-treated patients was 13% vs. 12% for placebo; and the incidence of akathisia-related events for ABILIFY-treated patients was 8% vs. 4% for placebo. In the short-term, placebo-controlled trial of schizophrenia in pediatric patients (13 to 17 years), the incidence of reported EPS-related events, excluding events related to akathisia, for ABILIFY-treated patients was 25% vs. 7% for placebo; and the incidence of akathisia-related events for ABILIFY-treated patients was 9% vs. 6% for placebo. Objectively collected data from those trials was collected for EPS using the Simpson Angus Scale (SAS), for akathisia using the Barnes Akathisia Rating Scale (BARS), and for dyskinesias using the Assessments of Involuntary Movement Scales (AIMS). In the adult schizophrenia trials, the objectively collected data did not show a difference between ABILIFY and placebo, with the exception of the BARS (ABILIFY, 0.08; placebo, –0.05). In the pediatric (13 to 17 years) schizophrenia trial, the objectively collected data did not show a difference between ABILIFY and placebo, with the exception of the SAS (ABILIFY, 0.24; placebo, –0.29). Similarly, in a long-term (26 week), placebo-controlled trial of schizophrenia in adults, objectively collected data for EPS using the SAS, for akathisia using the BARS, and for dyskinesias using the AIMS did not show a difference between ABILIFY and placebo. Bipolar Mania In the short-term, placebo-controlled trials in bipolar mania in adults, the incidence of reported EPS-related events, excluding events related to akathisia, for monotherapy ABILIFY-treated patients was 16% vs. 8% for placebo and the incidence of akathisia-related events for monotherapy ABILIFY-treated patients was 13% vs. 4% for placebo. In the 6-week, placebo-controlled trial in bipolar mania for adjunctive therapy with lithium or valproate, the incidence of reported EPS-related events, excluding events related to akathisia for adjunctive ABILIFY-treated patients was 15% vs. 8% for adjunctive placebo and the incidence of akathisia-related events for adjunctive ABILIFY-treated patients was 19% vs. 5% for adjunctive placebo. In the short-term, placebo-controlled trial in bipolar mania in pediatric (10 to 17 years) patients, the incidence of reported EPS-related events, excluding events related to akathisia, for ABILIFY-treated patients treated with was 26% vs. 5% for placebo and the incidence of akathisia-related events for ABILIFY-treated patients was 10% vs. 2% for placebo. In the adult bipolar mania trials with monotherapy ABILIFY, the SAS and the BARS showed a significant difference between ABILIFY and placebo (ABILIFY, 0.50; placebo, –0.01 and ABILIFY, 0.21; placebo, –0.05). Changes in the AIMS were similar for the ABILIFY and placebo groups. In the bipolar mania trials with ABILIFY as adjunctive therapy with either lithium or valproate, the SAS and the BARS showed a significant difference between adjunctive ABILIFY and adjunctive placebo (ABILIFY, 0.73; placebo, 0.07 and ABILIFY, 0.30; placebo, 0.11). Changes in the AIMS were similar for adjunctive ABILIFY and adjunctive placebo. In the pediatric (10 to 17 years), short-term, bipolar mania trial, the SAS showed a significant difference between ABILIFY and placebo (ABILIFY, 0.90; placebo, −0.05). Changes in the BARS and the AIMS were similar for the ABILIFY and placebo groups. Major Depressive Disorder In the short-term, placebo-controlled trials in major depressive disorder, the incidence of reported EPS-related events, excluding events related to akathisia, for adjunctive ABILIFY-treated patients was 8% vs. 5% for adjunctive placebo-treated patients; and the incidence of akathisia-related events for adjunctive ABILIFY-treated patients was 25% vs. 4% for adjunctive placebo-treated patients. In the major depressive disorder trials, the SAS and the BARS showed a significant difference between adjunctive ABILIFY and adjunctive placebo (ABILIFY, 0.31; placebo, 0.03 and ABILIFY, 0.22; placebo, 0.02). Changes in the AIMS were similar for the adjunctive ABILIFY and adjunctive placebo groups. Autistic Disorder In the short-term, placebo-controlled trials in autistic disorder in pediatric patients (6 to 17 years), the incidence of reported EPS-related events, excluding events related to akathisia, for ABILIFY-treated patients was 18% vs. 2% for placebo and the incidence of akathisia-related events for ABILIFY-treated patients was 3% vs. 9% for placebo. In the pediatric (6 to 17 years) short-term autistic disorder trials, the SAS showed a significant difference between ABILIFY and placebo (ABILIFY, 0.1; placebo, –0.4). Changes in the BARS and the AIMS were similar for the ABILIFY and placebo groups. Tourette's Disorder In the short-term, placebo-controlled trials in Tourette's Disorder in pediatric patients (6 to 18 years), the incidence of reported EPS-related events, excluding events related to akathisia, for ABILIFY-treated patients was 7% vs. 6% for placebo and the incidence of akathisia-related events for ABILIFY-treated patients was 4% vs. 6% for placebo. In the pediatric (6 to 18 years) short-term Tourette's Disorder trials, changes in the SAS, BARS and AIMS were not clinically meaningfully different for ABILIFY and placebo. Dystonia Symptoms of dystonia, prolonged abnormal contractions of muscle groups, may occur in susceptible individuals during the first few days of treatment. Dystonic symptoms include spasm of the neck muscles, sometimes progressing to tightness of the throat, swallowing difficulty, difficulty breathing, and/or protrusion of the tongue. While these symptoms can occur at low doses, they occur more frequently and with greater severity with high potency and at higher doses of first generation antipsychotic drugs. An elevated risk of acute dystonia is observed in males and younger age groups. Additional Findings Observed in Clinical Trials Adverse Reactions in Long-Term, Double-Blind, Placebo-Controlled Trials The adverse reactions reported in a 26-week, double-blind trial comparing oral ABILIFY and placebo in patients with schizophrenia were generally consistent with those reported in the short-term, placebo-controlled trials, except for a higher incidence of tremor [8% (12/153) for ABILIFY vs. 2% (3/153) for placebo]. In this study, the majority of the cases of tremor were of mild intensity (8/12 mild and 4/12 moderate), occurred early in therapy (9/12 ≤49 days), and were of limited duration (7/12 ≤10 days). Tremor infrequently led to discontinuation (<1%) of ABILIFY. In addition, in a long-term (52 weeks), active-controlled study, the incidence of tremor was 5% (40/859) for ABILIFY. A similar profile was observed in a long-term monotherapy study and a long-term adjunctive study with lithium and valproate in bipolar disorder. Other Adverse Reactions Observed During the Premarketing Evaluation of ABILIFY The following listing does not include reactions: 1) already listed in previous tables or elsewhere in labeling, 2) for which a drug cause was remote, 3) which were so general as to be uninformative, 4) which were not considered to have significant clinical implications, or 5) which occurred at a rate equal to or less than placebo. Reactions are categorized by body system according to the following definitions: frequent adverse reactions are those occurring in at least 1/100 patients; infrequent adverse reactions are those occurring in 1/100 to 1/1,000 patients; rare reactions are those occurring in fewer than 1/1,000 patients: Adults Blood and Lymphatic System Disorders: rare – thrombocytopenia Cardiac Disorders: infrequent – bradycardia, palpitations, rare – atrial flutter, cardio-respiratory arrest, atrioventricular block, atrial fibrillation, angina pectoris, myocardial ischemia, myocardial infarction, cardiopulmonary failure Eye Disorders: infrequent – photophobia; rare – diplopia Gastrointestinal Disorders: infrequent – gastroesophageal reflux disease General Disorders and Administration Site Conditions: frequent – asthenia; infrequent – peripheral edema, chest pain; rare – face edema Hepatobiliary Disorders: rare – hepatitis, jaundice Immune System Disorders: rare – hypersensitivity Injury, Poisoning, and Procedural Complications: infrequent – fall; rare – heat stroke Investigations: frequent – blood prolactin decreased, weight decreased, infrequent – hepatic enzyme increased, blood glucose increased, blood lactate dehydrogenase increased, gamma glutamyl transferase increased; rare – blood prolactin increased, blood urea increased, blood creatinine increased, blood bilirubin increased, electrocardiogram QT prolonged, glycosylated hemoglobin increased Metabolism and Nutrition Disorders: frequent – anorexia; rare – hypokalemia, hyponatremia, hypoglycemia Musculoskeletal and Connective Tissue Disorders: infrequent – muscular weakness, muscle tightness; rare – rhabdomyolysis, mobility decreased Nervous System Disorders: infrequent – parkinsonism, memory impairment, cogwheel rigidity, hypokinesia, bradykinesia; rare – akinesia, myoclonus, coordination abnormal, speech disorder, Grand Mal convulsion; <1/10,000 patients – choreoathetosis Psychiatric Disorders: infrequent – aggression, loss of libido, delirium; rare – libido increased, anorgasmia, tic, homicidal ideation, catatonia, sleepwalking Renal and Urinary Disorders: rare – urinary retention, nocturia Reproductive System and Breast Disorders: infrequent – erectile dysfunction; rare – gynecomastia, menstruation irregular, amenorrhea, breast pain, priapism Respiratory, Thoracic, and Mediastinal Disorders: infrequent – nasal congestion, dyspnea Skin and Subcutaneous Tissue Disorders: infrequent – rash, hyperhidrosis, pruritus, photosensitivity reaction, alopecia; rare – urticaria Vascular Disorders: infrequent – hypotension, hypertension Pediatric Patients Most adverse events observed in the pooled database of 1,686 pediatric patients, aged 6 to 18 years, were also observed in the adult population. Additional adverse reactions observed in the pediatric population are listed below. Eye Disorders: infrequent – oculogyric crisis Gastrointestinal Disorders: infrequent – tongue dry, tongue spasm Investigations: frequent – blood insulin increased Nervous System Disorders: infrequent – sleep talking Renal and Urinary Disorders: frequent – enuresis Skin and Subcutaneous Tissue Disorders: infrequent – hirsutism 6.2 Postmarketing Experience The following adverse reactions have been identified during postapproval use of ABILIFY. Because these reactions are reported voluntarily from a population of uncertain size, it is not always possible to reliably estimate their frequency or establish a causal relationship to drug exposure: occurrences of allergic reaction (anaphylactic reaction, angioedema, laryngospasm, pruritus/urticaria, or oropharyngeal spasm), blood glucose fluctuation, Drug Reaction with Eosinophilia and Systemic Symptoms (DRESS), hiccups, oculogyric crisis, and pathological gambling.\"]\n",
      "Dosage and Administration: [\"2 DOSAGE AND ADMINISTRATION Administer once daily without regard to meals ( 2 ) Initial Dose Recommended Dose Maximum Dose Schizophrenia – adults ( 2.1 ) 10 to 15 mg/day 10 to 15 mg/day 30 mg/day Schizophrenia – adolescents ( 2.1 ) 2 mg/day 10 mg/day 30 mg/day Bipolar mania – adults: monotherapy ( 2.2 ) 15 mg/day 15 mg/day 30 mg/day Bipolar mania – adults: adjunct to lithium or valproate ( 2.2 ) 10 to 15 mg/day 15 mg/day 30 mg/day Bipolar mania – pediatric patients: monotherapy or as an adjunct to lithium or valproate ( 2.2 ) 2 mg/day 10 mg/day 30 mg/day Major Depressive Disorder – adults: adjunct to antidepressants ( 2.3 ) 2 to 5 mg/day 5 to 10 mg/day 15 mg/day Irritability associated with autistic disorder – pediatric patients ( 2.4 ) 2 mg/day 5 to 10 mg/day 15 mg/day Tourette's Disorder – ( 2.5 ) Patients <50 kg 2 mg/day 5 mg/day 10 mg/day Patients ≥50 kg 2 mg/day 10 mg/day 20 mg/day Known CYP2D6 poor metabolizers: Half of the usual dose ( 2.6 ) 2.1 Schizophrenia Adults The recommended starting and target dose for ABILIFY is 10 or 15 mg/day administered on a once-a-day schedule without regard to meals. ABILIFY has been systematically evaluated and shown to be effective in a dose range of 10 to 30 mg/day, when administered as the tablet formulation; however, doses higher than 10 or 15 mg/day were not more effective than 10 or 15 mg/day. Dosage increases should generally not be made before 2 weeks, the time needed to achieve steady-state [see Clinical Studies (14.1) ] . Maintenance Treatment: Maintenance of efficacy in schizophrenia was demonstrated in a trial involving patients with schizophrenia who had been symptomatically stable on other antipsychotic medications for periods of 3 months or longer. These patients were discontinued from those medications and randomized to either ABILIFY 15 mg/day or placebo and observed for relapse [see Clinical Studies (14.1) ] . Patients should be periodically reassessed to determine the continued need for maintenance treatment. Adolescents The recommended target dose of ABILIFY is 10 mg/day. Aripiprazole was studied in adolescent patients 13 to 17 years of age with schizophrenia at daily doses of 10 and 30 mg. The starting daily dose of the tablet formulation in these patients was 2 mg, which was titrated to 5 mg after 2 days and to the target dose of 10 mg after 2 additional days. Subsequent dose increases should be administered in 5 mg increments. The 30 mg/day dose was not shown to be more efficacious than the 10 mg/day dose. ABILIFY can be administered without regard to meals [see Clinical Studies (14.1) ] . Patients should be periodically reassessed to determine the need for maintenance treatment. Switching from Other Antipsychotics There are no systematically collected data to specifically address switching patients with schizophrenia from other antipsychotics to ABILIFY or concerning concomitant administration with other antipsychotics. While immediate discontinuation of the previous antipsychotic treatment may be acceptable for some patients with schizophrenia, more gradual discontinuation may be most appropriate for others. In all cases, the period of overlapping antipsychotic administration should be minimized. 2.2 Bipolar I Disorder Acute Treatment of Manic and Mixed Episodes Adults: The recommended starting dose in adults is 15 mg given once daily as monotherapy and 10 mg to 15 mg given once daily as adjunctive therapy with lithium or valproate. ABILIFY can be given without regard to meals. The recommended target dose of ABILIFY is 15 mg/day, as monotherapy or as adjunctive therapy with lithium or valproate. The dose may be increased to 30 mg/day based on clinical response. The safety of doses above 30 mg/day has not been evaluated in clinical trials. Pediatrics: The recommended starting dose in pediatric patients (10 to 17 years) as monotherapy is 2 mg/day, with titration to 5 mg/day after 2 days, and a target dose of 10 mg/day after 2 additional days. Recommended dosing as adjunctive therapy to lithium or valproate is the same. Subsequent dose increases, if needed, should be administered in 5 mg/day increments. ABILIFY can be given without regard to meals [see Clinical Studies (14.2) ] . 2.3 Adjunctive Treatment of Major Depressive Disorder Adults The recommended starting dose for ABILIFY as adjunctive treatment for patients already taking an antidepressant is 2 to 5 mg/day. The recommended dosage range is 2 to 15 mg/day. Dosage adjustments of up to 5 mg/day should occur gradually, at intervals of no less than one week [see Clinical Studies (14.3) ] . Patients should be periodically reassessed to determine the continued need for maintenance treatment. 2.4 Irritability Associated with Autistic Disorder Pediatric Patients (6 to 17 years) The recommended dosage range for the treatment of pediatric patients with irritability associated with autistic disorder is 5 to 15 mg/day. Dosing should be initiated at 2 mg/day. The dose should be increased to 5 mg/day, with subsequent increases to 10 or 15 mg/day if needed. Dose adjustments of up to 5 mg/day should occur gradually, at intervals of no less than one week [see Clinical Studies (14.4) ] . Patients should be periodically reassessed to determine the continued need for maintenance treatment. 2.5 Tourette's Disorder Pediatric Patients (6 to 18 years) The recommended dosage range for Tourette's Disorder is 5 to 20 mg/day. For patients weighing less than 50 kg, dosing should be initiated at 2 mg/day with a target dose of 5 mg/day after 2 days. The dose can be increased to 10 mg/day in patients who do not achieve optimal control of tics. Dosage adjustments should occur gradually at intervals of no less than one week. For patients weighing 50 kg or more, dosing should be initiated at 2 mg/day for 2 days, and then increased to 5 mg/day for 5 days, with a target dose of 10 mg/day on Day 8. The dose can be increased up to 20 mg/day for patients who do not achieve optimal control of tics. Dosage adjustments should occur gradually in increments of 5 mg/day at intervals of no less than one week [see Clinical Studies (14.5) ]. Patients should be periodically reassessed to determine the continued need for maintenance treatment. 2.6 Dosage Adjustments for Cytochrome P450 Considerations Dosage adjustments are recommended in patients who are known CYP2D6 poor metabolizers and in patients taking concomitant CYP3A4 inhibitors or CYP2D6 inhibitors or strong CYP3A4 inducers (see Table 1 ). When the coadministered drug is withdrawn from the combination therapy, ABILIFY dosage should then be adjusted to its original level. When the coadministered CYP3A4 inducer is withdrawn, ABILIFY dosage should be reduced to the original level over 1 to 2 weeks. Patients who may be receiving a combination of strong, moderate, and weak inhibitors of CYP3A4 and CYP2D6 (e.g., a strong CYP3A4 inhibitor and a moderate CYP2D6 inhibitor or a moderate CYP3A4 inhibitor with a moderate CYP2D6 inhibitor), the dosing may be reduced to one-quarter (25%) of the usual dose initially and then adjusted to achieve a favorable clinical response. Table 1: Dose Adjustments for ABILIFY in Patients who are known CYP2D6 Poor Metabolizers and Patients Taking Concomitant CYP2D6 Inhibitors, CYP3A4 Inhibitors, and/or CYP3A4 Inducers Factors Dosage Adjustments for ABILIFY Known CYP2D6 Poor Metabolizers Administer half of usual dose Known CYP2D6 Poor Metabolizers taking concomitant strong CYP3A4 inhibitors (e.g., itraconazole, clarithromycin) Administer a quarter of usual dose Strong CYP2D6 (e.g., quinidine, fluoxetine, paroxetine) or CYP3A4 inhibitors (e.g., itraconazole, clarithromycin) Administer half of usual dose Strong CYP2D6 and CYP3A4 inhibitors Administer a quarter of usual dose Strong CYP3A4 inducers (e.g., carbamazepine, rifampin) Double usual dose over 1 to 2 weeks When adjunctive ABILIFY is administered to patients with major depressive disorder, ABILIFY should be administered without dosage adjustment as specified in Dosage and Administration (2.3) .\"]\n"
     ]
    }
   ],
   "source": [
    "import requests\n",
    "\n",
    "# Define the OpenFDA API endpoint for drug labeling\n",
    "url = \"https://api.fda.gov/drug/label.json\"\n",
    "\n",
    "# Parameters for searching by brand name (e.g., \"Aspirin\")\n",
    "params = {\n",
    "    'search': 'openfda.brand_name:\"Abilify\"',  # Replace \"Aspirin\" with any drug name\n",
    "    'limit': 1  # Limit to 1 result\n",
    "}\n",
    "\n",
    "# Send the GET request to OpenFDA API\n",
    "response = requests.get(url, params=params)\n",
    "\n",
    "# Check if the request was successful\n",
    "if response.status_code == 200:\n",
    "    data = response.json()\n",
    "    if data.get('results'):\n",
    "        drug_info = data['results'][0]\n",
    "        \n",
    "        # Print out some information about the drug\n",
    "        print(\"Drug Name:\", drug_info['openfda']['brand_name'][0])\n",
    "        print(\"Indications and Usage:\", drug_info.get('indications_and_usage', 'Not available'))\n",
    "        print(\"Side Effects:\", drug_info.get('adverse_reactions', 'Not available'))\n",
    "        print(\"Dosage and Administration:\", drug_info.get('dosage_and_administration', 'Not available'))\n",
    "    else:\n",
    "        print(\"No information found for the drug.\")\n",
    "else:\n",
    "    print(f\"Error retrieving data: {response.status_code}\")\n"
   ]
  },
  {
   "cell_type": "code",
   "execution_count": 92,
   "metadata": {},
   "outputs": [
    {
     "name": "stdout",
     "output_type": "stream",
     "text": [
      "User input: Amoxilin\n",
      "Most similar medicine: Amoxicillin with a score of 84\n",
      "Link: https://www.drugs.com/amoxicillin.html\n"
     ]
    }
   ],
   "source": [
    "import pandas as pd\n",
    "from fuzzywuzzy import process\n",
    "\n",
    "\n",
    "df = pd.read_csv('all_drugs.csv')\n",
    "\n",
    "def find_most_similar_medicine(user_input, df_column):\n",
    "    best_match = process.extractOne(user_input, df_column)\n",
    "    return best_match\n",
    "\n",
    "user_input = \"Amoxilin\"  # Misspelled user input\n",
    "\n",
    "most_similar = find_most_similar_medicine(user_input, df['Medicine name'])\n",
    "\n",
    "\n",
    "# Print the result\n",
    "print(f\"User input: {user_input}\")\n",
    "print(f\"Most similar medicine: {most_similar[0]} with a score of {most_similar[1]}\")\n",
    "print(f\"Link: {df[df['Medicine name'] == most_similar[0]]['Medicine Link'].values[0]}\")"
   ]
  },
  {
   "cell_type": "code",
   "execution_count": 114,
   "metadata": {},
   "outputs": [
    {
     "name": "stdout",
     "output_type": "stream",
     "text": [
      "{'approximateGroup': {'inputTerm': None, 'candidate': [{'rxcui': '2395467', 'rxaui': '12432310', 'score': '21.273706436157227', 'rank': '1', 'source': 'MMSL'}, {'rxcui': '2387325', 'rxaui': '12419262', 'score': '14.597760200500488', 'rank': '2', 'name': 'Breztri', 'source': 'RXNORM'}, {'rxcui': '2387324', 'rxaui': '12419265', 'score': '13.486606213569642', 'rank': '3', 'name': 'Breztri Inhalant Product', 'source': 'RXNORM'}, {'rxcui': '2387322', 'rxaui': '12432373', 'score': '13.438741250446913', 'rank': '4', 'source': 'MMSL'}]}}\n"
     ]
    }
   ],
   "source": [
    "import requests\n",
    "\n",
    "# Base URL for the RxNorm API\n",
    "BASE_URL = \"https://rxnav.nlm.nih.gov/REST/approximateTerm.json\"  # For JSON results\n",
    "\n",
    "def get_drug_info(drug_name):\n",
    "    # URL encoding the drug name to ensure it is safe for use in a URL\n",
    "    term = drug_name.replace(\" \", \"%20\")  # Manually replace spaces with URL encoded value if needed\n",
    "    url = f\"{BASE_URL}?term={term}&maxEntries=4&option=0\"  # Option 0 for Current concepts\n",
    "    \n",
    "    # Make the request to the RxNorm API\n",
    "    response = requests.get(url)\n",
    "    \n",
    "    # Check if the request was successful\n",
    "    if response.status_code == 200:\n",
    "        try:\n",
    "            # Parse the JSON response\n",
    "            return response.json()\n",
    "        except ValueError as e:\n",
    "            print(f\"Error parsing JSON: {e}\")\n",
    "            return None\n",
    "    else:\n",
    "        print(f\"Error: {response.status_code}\")\n",
    "        return None\n",
    "\n",
    "# Example drug name to search for\n",
    "drug_name = \"Breztri Aerosphere\"\n",
    "\n",
    "# Call the function to get drug information\n",
    "drug_info = get_drug_info(drug_name)\n",
    "\n",
    "# If results are found, print the information\n",
    "if drug_info:\n",
    "    print(drug_info)\n",
    "else:\n",
    "    print(\"No drug information found or there was an error.\")\n"
   ]
  },
  {
   "cell_type": "code",
   "execution_count": 115,
   "metadata": {},
   "outputs": [
    {
     "data": {
      "text/plain": [
       "{'approximateGroup': {'inputTerm': None,\n",
       "  'candidate': [{'rxcui': '2395467',\n",
       "    'rxaui': '12432310',\n",
       "    'score': '21.273706436157227',\n",
       "    'rank': '1',\n",
       "    'source': 'MMSL'},\n",
       "   {'rxcui': '2387325',\n",
       "    'rxaui': '12419262',\n",
       "    'score': '14.597760200500488',\n",
       "    'rank': '2',\n",
       "    'name': 'Breztri',\n",
       "    'source': 'RXNORM'},\n",
       "   {'rxcui': '2387324',\n",
       "    'rxaui': '12419265',\n",
       "    'score': '13.486606213569642',\n",
       "    'rank': '3',\n",
       "    'name': 'Breztri Inhalant Product',\n",
       "    'source': 'RXNORM'},\n",
       "   {'rxcui': '2387322',\n",
       "    'rxaui': '12432373',\n",
       "    'score': '13.438741250446913',\n",
       "    'rank': '4',\n",
       "    'source': 'MMSL'}]}}"
      ]
     },
     "execution_count": 115,
     "metadata": {},
     "output_type": "execute_result"
    }
   ],
   "source": [
    "drug_info"
   ]
  },
  {
   "cell_type": "code",
   "execution_count": null,
   "metadata": {},
   "outputs": [],
   "source": []
  }
 ],
 "metadata": {
  "kernelspec": {
   "display_name": "Python 3",
   "language": "python",
   "name": "python3"
  },
  "language_info": {
   "codemirror_mode": {
    "name": "ipython",
    "version": 3
   },
   "file_extension": ".py",
   "mimetype": "text/x-python",
   "name": "python",
   "nbconvert_exporter": "python",
   "pygments_lexer": "ipython3",
   "version": "3.11.7"
  }
 },
 "nbformat": 4,
 "nbformat_minor": 2
}
